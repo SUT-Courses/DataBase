{
 "cells": [
  {
   "cell_type": "markdown",
   "metadata": {},
   "source": [
    "## Prepare Environment"
   ]
  },
  {
   "cell_type": "code",
   "execution_count": 1,
   "metadata": {
    "scrolled": true
   },
   "outputs": [],
   "source": [
    "# !pip3 install pymongo\n",
    "# !pip3 install mongoengine\n",
    "# !pip3 install Faker\n",
    "# !pip3 install mongomock"
   ]
  },
  {
   "cell_type": "code",
   "execution_count": 2,
   "metadata": {},
   "outputs": [],
   "source": [
    "# %load_ext nb_black\n",
    "# %load_ext autoreload\n",
    "# %autoreload 2"
   ]
  },
  {
   "cell_type": "code",
   "execution_count": 3,
   "metadata": {},
   "outputs": [],
   "source": [
    "# Prepare environment for importing from src\n",
    "import sys\n",
    "import os\n",
    "\n",
    "sys.path.insert(0, \"..\")"
   ]
  },
  {
   "cell_type": "markdown",
   "metadata": {},
   "source": [
    "## Import Dependencies "
   ]
  },
  {
   "cell_type": "code",
   "execution_count": 4,
   "metadata": {},
   "outputs": [],
   "source": [
    "import random\n",
    "import datetime\n",
    "\n",
    "from mongoengine import connect, get_connection\n",
    "\n",
    "from src.data import initialize_db\n",
    "from src.utils import drop_db"
   ]
  },
  {
   "cell_type": "markdown",
   "metadata": {},
   "source": [
    "## Connect to Mock DB"
   ]
  },
  {
   "cell_type": "code",
   "execution_count": 5,
   "metadata": {},
   "outputs": [],
   "source": [
    "from pymongo import MongoClient\n",
    "\n",
    "client = connect(\"assignment\", host=\"mongodb://127.0.0.1:27017\")"
   ]
  },
  {
   "cell_type": "code",
   "execution_count": 6,
   "metadata": {},
   "outputs": [],
   "source": [
    "# if not os.environ.get(\"TEST\"):\n",
    "#     drop_db(client, \"assignment\")"
   ]
  },
  {
   "cell_type": "markdown",
   "metadata": {},
   "source": [
    "## Generate Fake Data & Insert Them to DB"
   ]
  },
  {
   "cell_type": "code",
   "execution_count": 7,
   "metadata": {},
   "outputs": [],
   "source": [
    "# if not os.environ.get(\"TEST\"):\n",
    "#     initialize_db()"
   ]
  },
  {
   "cell_type": "code",
   "execution_count": 8,
   "metadata": {},
   "outputs": [
    {
     "name": "stdout",
     "output_type": "stream",
     "text": [
      "['pharmacy', 'product', 'company', 'driver', 'comment', 'contract', 'patient', 'product_item', 'drug', 'doctor', 'prescription', 'user', 'sale']\n",
      "{'_id': ObjectId('6019958165a03929b15c6aed'), 'national_id': '3389083863', 'first_name': 'Shane', 'last_name': 'Ramirez', 'address': '65423 Rogers Common Apt. 594\\nBlairmouth, ME 72858', 'birthdate': datetime.datetime(1978, 3, 3, 0, 0), 'password': 'raymond57', 'doctor_id': ObjectId('6019958165a03929b15c6aec')}\n"
     ]
    }
   ],
   "source": [
    "print(client.assignment.list_collection_names())\n",
    "print(client.assignment.patient.find_one())"
   ]
  },
  {
   "cell_type": "markdown",
   "metadata": {},
   "source": [
    "# Functions"
   ]
  },
  {
   "cell_type": "code",
   "execution_count": 9,
   "metadata": {},
   "outputs": [],
   "source": [
    "import pprint\n",
    "pp = pprint.PrettyPrinter(indent=4)\n",
    "prprint = pp.pprint"
   ]
  },
  {
   "cell_type": "markdown",
   "metadata": {},
   "source": [
    "## Examples"
   ]
  },
  {
   "cell_type": "code",
   "execution_count": 31,
   "metadata": {
    "scrolled": false
   },
   "outputs": [],
   "source": [
    "ls = (list(client.assignment.drug.find({\"formula\": \"CH3COOH\"})))\n",
    "# prprint(ls)"
   ]
  },
  {
   "cell_type": "code",
   "execution_count": 36,
   "metadata": {
    "scrolled": true
   },
   "outputs": [],
   "source": [
    "ls = list(\n",
    "    client.assignment.drug.aggregate(\n",
    "        [{\"$group\": {\"_id\": \"$formula\", \"count\": {\"$sum\": 1}}}]\n",
    "    )\n",
    ")\n",
    "\n",
    "# prprint(ls)"
   ]
  },
  {
   "cell_type": "code",
   "execution_count": 37,
   "metadata": {},
   "outputs": [
    {
     "data": {
      "text/plain": [
       "{'patients': 9}"
      ]
     },
     "execution_count": 37,
     "metadata": {},
     "output_type": "execute_result"
    }
   ],
   "source": [
    "client.assignment.patient.aggregate(\n",
    "    [\n",
    "        {\n",
    "            \"$lookup\": {\n",
    "                \"from\": \"doctor\",\n",
    "                \"localField\": \"doctor_id\",\n",
    "                \"foreignField\": \"_id\",\n",
    "                \"as\": \"doctor\",\n",
    "            }\n",
    "        },\n",
    "        {\"$match\": {\"doctor.first_name\": \"Robert\"}},\n",
    "        {\"$count\": \"patients\"},\n",
    "    ]\n",
    ").next()"
   ]
  },
  {
   "cell_type": "markdown",
   "metadata": {},
   "source": [
    "## Query Assignments"
   ]
  },
  {
   "cell_type": "code",
   "execution_count": 15,
   "metadata": {
    "scrolled": true
   },
   "outputs": [
    {
     "name": "stdout",
     "output_type": "stream",
     "text": [
      "##1##\n",
      "[{'name': 'Rogers-Cardenas'}, {'name': 'Jones, Fox and Romero'}, {'name': 'Lee, Moore and Ferrell'}, {'name': 'Ellison-Arias'}, {'name': 'Henry Inc'}, {'name': 'Lopez-Buchanan'}, {'name': 'Weber-Zamora'}, {'name': 'Kennedy Inc'}, {'name': 'Ramirez Group'}, {'name': 'Fry-Douglas'}, {'name': 'Smith, Kemp and Hughes'}, {'name': 'Nicholson, Smith and Hernandez'}]\n"
     ]
    }
   ],
   "source": [
    "# نام داروخانه هایی که شماره تلفن آنها با 1+ شروع می شود\n",
    "print(\"##1##\")\n",
    "a1 = list(\n",
    "    client.assignment.pharmacy.find(\n",
    "        filter={\"telephone\" : {\"$regex\": \"^\\+1\"}},  # Complete the filter\n",
    "        projection={\"name\": 1, \"_id\": 0},\n",
    "        # projection={\"telephone\": 2, \"name\": 1, \"_id\": 0}\n",
    "    )\n",
    ")\n",
    "print(a1)\n"
   ]
  },
  {
   "cell_type": "code",
   "execution_count": null,
   "metadata": {},
   "outputs": [],
   "source": []
  },
  {
   "cell_type": "code",
   "execution_count": 16,
   "metadata": {},
   "outputs": [
    {
     "name": "stdout",
     "output_type": "stream",
     "text": [
      "##2##\n",
      "[{'national_id': '7510799118'}, {'national_id': '8069901627'}, {'national_id': '7059640165'}, {'national_id': '9599534283'}, {'national_id': '5973832060'}, {'national_id': '5899441715'}, {'national_id': '9812387800'}, {'national_id': '4271739627'}, {'national_id': '2091241862'}, {'national_id': '0249724399'}, {'national_id': '0242403381'}, {'national_id': '9074260880'}, {'national_id': '3578243477'}, {'national_id': '0961701595'}, {'national_id': '8114578870'}, {'national_id': '8816502544'}, {'national_id': '1123274897'}, {'national_id': '4815269255'}, {'national_id': '8519537749'}, {'national_id': '5700412918'}, {'national_id': '2546862728'}, {'national_id': '8864078802'}, {'national_id': '0186074290'}, {'national_id': '2365401814'}]\n"
     ]
    }
   ],
   "source": [
    "# شماره ملی افرادی که بعد از تاریخ datetime.datetime(2000, 1, 1, 0, 0) متولد شده اند\n",
    "print(\"##2##\")\n",
    "date = datetime.datetime(2000, 1, 1, 0, 0)\n",
    "a2 = list(\n",
    "    client.assignment.patient.find(\n",
    "        filter={\"birthdate\": {'$gt': date}},  # Complete the filter\n",
    "        projection={\"national_id\": 1, \"_id\": 0},       \n",
    "    )\n",
    ")\n",
    "\n",
    "print(a2)"
   ]
  },
  {
   "cell_type": "code",
   "execution_count": null,
   "metadata": {},
   "outputs": [],
   "source": []
  },
  {
   "cell_type": "code",
   "execution_count": 40,
   "metadata": {},
   "outputs": [
    {
     "name": "stdout",
     "output_type": "stream",
     "text": [
      "##3##\n",
      "20\n"
     ]
    },
    {
     "name": "stderr",
     "output_type": "stream",
     "text": [
      "/tmp/ipykernel_141230/1398732763.py:3: DeprecationWarning: count is deprecated. Use Collection.count_documents instead.\n",
      "  a3 = client.assignment.prescription.find(\n"
     ]
    }
   ],
   "source": [
    "# تعداد نسخه هایی که دارای حداقل 15 دارو هستند\n",
    "print(\"##3##\")\n",
    "a3 = client.assignment.prescription.find(\n",
    "    filter={ \"items.15\" : {u\"$exists\": True} }  # Complete the filter\n",
    ").count()\n",
    "\n",
    "print(a3)\n"
   ]
  },
  {
   "cell_type": "code",
   "execution_count": null,
   "metadata": {},
   "outputs": [],
   "source": []
  },
  {
   "cell_type": "code",
   "execution_count": 67,
   "metadata": {},
   "outputs": [
    {
     "name": "stdout",
     "output_type": "stream",
     "text": [
      "##4##\n",
      "[{'national_id': '3389083863'}, {'national_id': '0405411526'}, {'national_id': '9267389975'}, {'national_id': '0242403381'}, {'national_id': '0961701595'}, {'national_id': '2611231261'}, {'national_id': '3153888245'}, {'national_id': '4991004202'}, {'national_id': '0259364502'}]\n"
     ]
    }
   ],
   "source": [
    "# کد ملی بیمارانی که اسم پزشک آنها \"Robert\" است\n",
    "print(\"##4##\")\n",
    "\n",
    "a4 = list(\n",
    "    client.assignment.patient.aggregate(\n",
    "    [{\n",
    "            \"$lookup\": {\n",
    "                \"from\": \"doctor\",\n",
    "                \"localField\": \"doctor_id\",\n",
    "                \"foreignField\": \"_id\",\n",
    "                \"as\": \"doctor\",\n",
    "            }\n",
    "        },\n",
    "        {\"$match\": {\"doctor.first_name\": \"Robert\"}}, \n",
    "        { \"$project\": { \"national_id\":1, \"_id\":0 } }\n",
    "    ],\n",
    "    )\n",
    ")\n",
    "print(a4)"
   ]
  },
  {
   "cell_type": "code",
   "execution_count": null,
   "metadata": {},
   "outputs": [],
   "source": []
  },
  {
   "cell_type": "code",
   "execution_count": 64,
   "metadata": {},
   "outputs": [
    {
     "name": "stdout",
     "output_type": "stream",
     "text": [
      "##5##\n",
      "[]\n"
     ]
    }
   ],
   "source": [
    "# نام داروخانه ای که دارویی به گرانترین قیمت به آن فروخته شده است\n",
    "print(\"##5##\")\n",
    "a5 = list(client.assignment.sale.aggregate(\n",
    "    [{\n",
    "  \n",
    "        \"$lookup\": {\n",
    "            \"from\": \"pharmacy\",\n",
    "            \"localField\": \"pharmacy_id\",\n",
    "            \"foreignField\": \"_id\",\n",
    "            \"as\": \"pha\",\n",
    "        }\n",
    "    },\n",
    "    # {'$sort': {'price': -1}},\n",
    "    # {'$limit': 1},\n",
    "    ],\n",
    "))\n",
    "# ).next()\n",
    "\n",
    "print(a5)"
   ]
  },
  {
   "cell_type": "code",
   "execution_count": null,
   "metadata": {},
   "outputs": [],
   "source": []
  },
  {
   "cell_type": "code",
   "execution_count": 20,
   "metadata": {},
   "outputs": [
    {
     "name": "stdout",
     "output_type": "stream",
     "text": [
      "##6##\n"
     ]
    }
   ],
   "source": [
    "# نام و فرمول پنج دارویی که گران ترین قیمت برای آنها ثبت شده است\n",
    "print(\"##6##\")\n",
    "a6 = list(\n",
    "    client.assignment.sale.aggregate(\n",
    "        [  # Complete the pipeline\n",
    "        ]\n",
    "    )\n",
    ")\n",
    "# print(a6)"
   ]
  },
  {
   "cell_type": "code",
   "execution_count": null,
   "metadata": {},
   "outputs": [],
   "source": []
  },
  {
   "cell_type": "code",
   "execution_count": 21,
   "metadata": {},
   "outputs": [
    {
     "name": "stdout",
     "output_type": "stream",
     "text": [
      "##7##\n"
     ]
    }
   ],
   "source": [
    "# نام تمام داروهایی که در تاریخ datetime.datetime(2020, 9, 23, 0, 0) تجویز شده اند\n",
    "print(\"##7##\")\n",
    "a7 = list(\n",
    "    client.assignment.prescription.aggregate(\n",
    "        [  # Complete the pipeline\n",
    "        ]\n",
    "    )\n",
    ")\n",
    "# print(a7)"
   ]
  },
  {
   "cell_type": "code",
   "execution_count": null,
   "metadata": {},
   "outputs": [],
   "source": []
  },
  {
   "cell_type": "code",
   "execution_count": 22,
   "metadata": {},
   "outputs": [
    {
     "name": "stdout",
     "output_type": "stream",
     "text": [
      "##8##\n"
     ]
    }
   ],
   "source": [
    "# نام تمام کارخانه هایی که داروی با فرمول \"C2H6Na4O12\" را تولید می کنند\n",
    "print(\"##8##\")\n",
    "a8 = list(\n",
    "    client.assignment.drug.aggregate(\n",
    "        [  # Complete the pipeline\n",
    "        ]\n",
    "    )\n",
    ")\n",
    "# print(a8)"
   ]
  },
  {
   "cell_type": "code",
   "execution_count": null,
   "metadata": {},
   "outputs": [],
   "source": []
  },
  {
   "cell_type": "code",
   "execution_count": 23,
   "metadata": {
    "scrolled": false
   },
   "outputs": [
    {
     "name": "stdout",
     "output_type": "stream",
     "text": [
      "##9##\n"
     ]
    }
   ],
   "source": [
    "# کاربرانی که در سبد آنها ده BasketItem وجود دارد\n",
    "print(\"##9##\")\n",
    "a9 = list(\n",
    "    client.assignment.user.find(\n",
    "        filter={},  # Complete the filter\n",
    "        projection={\"email\": 1, \"_id\": 0},\n",
    "    )\n",
    ")\n",
    "# print(a9)"
   ]
  },
  {
   "cell_type": "code",
   "execution_count": null,
   "metadata": {},
   "outputs": [],
   "source": []
  },
  {
   "cell_type": "code",
   "execution_count": 24,
   "metadata": {},
   "outputs": [
    {
     "name": "stdout",
     "output_type": "stream",
     "text": [
      "##10##\n"
     ]
    }
   ],
   "source": [
    "print(\"##10##\")\n",
    "a10 = client.assignment.product_item.aggregate(\n",
    "    [  # Complete the pipeline\n",
    "    ]\n",
    ").next()\n",
    "# print(a10)"
   ]
  },
  {
   "cell_type": "code",
   "execution_count": null,
   "metadata": {},
   "outputs": [],
   "source": []
  },
  {
   "cell_type": "code",
   "execution_count": 25,
   "metadata": {},
   "outputs": [
    {
     "name": "stdout",
     "output_type": "stream",
     "text": [
      "##11##\n"
     ]
    }
   ],
   "source": [
    "# شماره ملی رانندگانی که پلاک آنها به 25 ختم می شود\n",
    "print(\"##11##\")\n",
    "a11 = list(\n",
    "    client.assignment.driver.find(\n",
    "        filter={},  # Complete the filter\n",
    "        projection={\"_id\": 0, \"national_id\": 1},\n",
    "    )\n",
    ")\n",
    "# print(a11)"
   ]
  },
  {
   "cell_type": "code",
   "execution_count": null,
   "metadata": {},
   "outputs": [],
   "source": []
  },
  {
   "cell_type": "code",
   "execution_count": 26,
   "metadata": {},
   "outputs": [
    {
     "name": "stdout",
     "output_type": "stream",
     "text": [
      "##12##\n"
     ]
    }
   ],
   "source": [
    "print(\"##12##\")\n",
    "a12 = list(\n",
    "    client.assignment.comment.find(\n",
    "        filter={},  # Complete the filter\n",
    "        projection={\"_id\": 0, \"text\": 1},\n",
    "    )\n",
    ")\n",
    "# print(a12)"
   ]
  },
  {
   "cell_type": "code",
   "execution_count": null,
   "metadata": {},
   "outputs": [],
   "source": []
  },
  {
   "cell_type": "code",
   "execution_count": 27,
   "metadata": {},
   "outputs": [
    {
     "name": "stdout",
     "output_type": "stream",
     "text": [
      "##13##\n"
     ]
    }
   ],
   "source": [
    "print(\"##13##\")\n",
    "a13 = client.assignment.comment.aggregate(\n",
    "    []  # Complete the pipeline\n",
    ").next()\n",
    "# print(a13)"
   ]
  },
  {
   "cell_type": "code",
   "execution_count": null,
   "metadata": {},
   "outputs": [],
   "source": []
  },
  {
   "cell_type": "code",
   "execution_count": 28,
   "metadata": {},
   "outputs": [],
   "source": [
    "answers = {\n",
    "    \"a1\": a1,\n",
    "    \"a2\": a2,\n",
    "    \"a3\": a3,\n",
    "    \"a4\": a4,\n",
    "    \"a5\": a5,\n",
    "    \"a6\": a6,\n",
    "    \"a7\": a7,\n",
    "    \"a8\": a8,\n",
    "    \"a9\": a9,\n",
    "    \"a10\": a10,\n",
    "    \"a11\": a11,\n",
    "    \"a12\": a12,\n",
    "    \"a13\": a13,\n",
    "}"
   ]
  },
  {
   "cell_type": "code",
   "execution_count": 29,
   "metadata": {},
   "outputs": [],
   "source": [
    "import json\n",
    "with open(\"answers.json\", \"r\") as json_file:\n",
    "    target = json.load(json_file)"
   ]
  },
  {
   "cell_type": "code",
   "execution_count": 30,
   "metadata": {},
   "outputs": [
    {
     "name": "stdout",
     "output_type": "stream",
     "text": [
      "Query  1 Correct!\n",
      "Query  2 Correct!\n",
      "Query  3 Wrong!\n",
      "Query  4 Wrong!\n",
      "Query  5 Wrong!\n",
      "Query  6 Wrong!\n",
      "Query  7 Wrong!\n",
      "Query  8 Wrong!\n",
      "Query  9 Wrong!\n",
      "Query 10 Wrong!\n",
      "Query 11 Wrong!\n",
      "Query 12 Wrong!\n",
      "Query 13 Wrong!\n",
      "2\n"
     ]
    }
   ],
   "source": [
    "correct = 0\n",
    "for i in range(1, 14):\n",
    "    if answers[\"a{}\".format(i)] == target[\"a{}\".format(i)]:\n",
    "        print(\"Query {:2d} Correct!\".format(i))\n",
    "        correct += 1\n",
    "    else:\n",
    "        print(\"Query {:2d} Wrong!\".format(i))\n",
    "print(correct)"
   ]
  },
  {
   "cell_type": "markdown",
   "metadata": {},
   "source": [
    "## Print Result to File  "
   ]
  },
  {
   "cell_type": "code",
   "execution_count": null,
   "metadata": {},
   "outputs": [],
   "source": [
    "# Set your student number\n",
    "student_number = 97106187\n",
    "file_path = os.path.join(\n",
    "    os.getenv(\"OUTPUT_DIR\", \".\"), \"{}.json\".format(student_number)\n",
    ")\n",
    "with open(file_path, \"w\") as file:\n",
    "    corrects = []\n",
    "    wrongs = []\n",
    "    for i in range(1, 14):\n",
    "        if answers[\"a{}\".format(i)] == target[\"a{}\".format(i)]:\n",
    "            corrects.append(i)\n",
    "        else:\n",
    "            wrongs.append(i)\n",
    "    json.dump({\"corrects\": corrects, \"wrongs\": wrongs, \"score\": len(corrects)}, file)"
   ]
  },
  {
   "cell_type": "code",
   "execution_count": null,
   "metadata": {},
   "outputs": [],
   "source": []
  }
 ],
 "metadata": {
  "kernelspec": {
   "display_name": "Python 3",
   "language": "python",
   "name": "python3"
  },
  "language_info": {
   "codemirror_mode": {
    "name": "ipython",
    "version": 3
   },
   "file_extension": ".py",
   "mimetype": "text/x-python",
   "name": "python",
   "nbconvert_exporter": "python",
   "pygments_lexer": "ipython3",
   "version": "3.9.7"
  }
 },
 "nbformat": 4,
 "nbformat_minor": 1
}
