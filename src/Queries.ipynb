{
 "cells": [
  {
   "cell_type": "markdown",
   "metadata": {},
   "source": [
    "## Prepare Environment"
   ]
  },
  {
   "cell_type": "code",
   "execution_count": null,
   "metadata": {
    "scrolled": true
   },
   "outputs": [],
   "source": [
    "# !pip3 install pymongo\n",
    "# !pip3 install mongoengine\n",
    "# !pip3 install Faker\n",
    "# !pip3 install mongomock"
   ]
  },
  {
   "cell_type": "code",
   "execution_count": null,
   "metadata": {},
   "outputs": [],
   "source": [
    "# %load_ext nb_black\n",
    "# %load_ext autoreload\n",
    "# %autoreload 2"
   ]
  },
  {
   "cell_type": "code",
   "execution_count": null,
   "metadata": {},
   "outputs": [],
   "source": [
    "# Prepare environment for importing from src\n",
    "import sys\n",
    "import os\n",
    "\n",
    "sys.path.insert(0, \"..\")"
   ]
  },
  {
   "cell_type": "markdown",
   "metadata": {},
   "source": [
    "## Import Dependencies "
   ]
  },
  {
   "cell_type": "code",
   "execution_count": null,
   "metadata": {},
   "outputs": [],
   "source": [
    "import random\n",
    "import datetime\n",
    "\n",
    "from mongoengine import connect, get_connection\n",
    "\n",
    "from src.data import initialize_db\n",
    "from src.utils import drop_db"
   ]
  },
  {
   "cell_type": "markdown",
   "metadata": {},
   "source": [
    "## Connect to Mock DB"
   ]
  },
  {
   "cell_type": "code",
   "execution_count": null,
   "metadata": {},
   "outputs": [],
   "source": [
    "from pymongo import MongoClient\n",
    "\n",
    "client = connect(\"assignment\", host=\"mongodb://127.0.0.1:27017\")"
   ]
  },
  {
   "cell_type": "code",
   "execution_count": null,
   "metadata": {},
   "outputs": [],
   "source": [
    "if not os.environ.get(\"TEST\"):\n",
    "    drop_db(client, \"assignment\")"
   ]
  },
  {
   "cell_type": "markdown",
   "metadata": {},
   "source": [
    "## Generate Fake Data & Insert Them to DB"
   ]
  },
  {
   "cell_type": "code",
   "execution_count": null,
   "metadata": {},
   "outputs": [],
   "source": [
    "if not os.environ.get(\"TEST\"):\n",
    "    initialize_db()"
   ]
  },
  {
   "cell_type": "code",
   "execution_count": null,
   "metadata": {},
   "outputs": [],
   "source": [
    "print(client.assignment.list_collection_names())\n",
    "print(client.assignment.patient.find_one())"
   ]
  },
  {
   "cell_type": "markdown",
   "metadata": {},
   "source": [
    "## Examples"
   ]
  },
  {
   "cell_type": "code",
   "execution_count": null,
   "metadata": {
    "scrolled": false
   },
   "outputs": [],
   "source": [
    "print(client.assignment.drug.find_one({\"formula\": \"CH3COOH\"}))"
   ]
  },
  {
   "cell_type": "code",
   "execution_count": null,
   "metadata": {},
   "outputs": [],
   "source": []
  },
  {
   "cell_type": "code",
   "execution_count": null,
   "metadata": {
    "scrolled": true
   },
   "outputs": [],
   "source": [
    "list(\n",
    "    client.assignment.drug.aggregate(\n",
    "        [{\"$group\": {\"_id\": \"$formula\", \"count\": {\"$sum\": 1}}}]\n",
    "    )\n",
    ")"
   ]
  },
  {
   "cell_type": "code",
   "execution_count": null,
   "metadata": {},
   "outputs": [],
   "source": []
  },
  {
   "cell_type": "code",
   "execution_count": null,
   "metadata": {},
   "outputs": [],
   "source": [
    "# http://www.petecorey.com/blog/2020/01/29/mongodb-object-array-lookup-aggregation/\n",
    "print(\n",
    "    client.assignment.prescription.aggregate(\n",
    "        [\n",
    "            {\"$match\": {\"date\": datetime.datetime(2020, 3, 23, 0, 0)}},\n",
    "            {\n",
    "                \"$lookup\": {\n",
    "                    \"from\": \"drug\",\n",
    "                    \"localField\": \"items.drug_id\",\n",
    "                    \"foreignField\": \"_id\",\n",
    "                    \"as\": \"items.drug\",\n",
    "                }\n",
    "            },\n",
    "            {\"$unwind\": \"$items.drug\"},\n",
    "            {\n",
    "                \"$group\": {\n",
    "                    \"_id\": \"$_id\",\n",
    "                    \"root\": {\"$mergeObjects\": \"$$ROOT\"},\n",
    "                    \"items\": {\"$push\": \"$items\"},\n",
    "                }\n",
    "            },\n",
    "            {\"$replaceRoot\": {\"newRoot\": {\"$mergeObjects\": [\"$root\", \"$$ROOT\"]}}},\n",
    "            {\"$project\": {\"root\": 0}},\n",
    "            #\n",
    "            {\"$project\": {\"_id\": 0, \"items.drug.name\": 1}},\n",
    "        ]\n",
    "    ).next()\n",
    ")"
   ]
  },
  {
   "cell_type": "code",
   "execution_count": null,
   "metadata": {},
   "outputs": [],
   "source": []
  },
  {
   "cell_type": "code",
   "execution_count": null,
   "metadata": {},
   "outputs": [],
   "source": [
    "client.assignment.patient.aggregate(\n",
    "    [\n",
    "        {\n",
    "            \"$lookup\": {\n",
    "                \"from\": \"doctor\",\n",
    "                \"localField\": \"doctor_id\",\n",
    "                \"foreignField\": \"_id\",\n",
    "                \"as\": \"doctor\",\n",
    "            }\n",
    "        },\n",
    "        {\"$match\": {\"doctor.first_name\": \"Robert\"}},\n",
    "        {\"$count\": \"patients\"},\n",
    "    ]\n",
    ").next()"
   ]
  },
  {
   "cell_type": "code",
   "execution_count": null,
   "metadata": {},
   "outputs": [],
   "source": []
  },
  {
   "cell_type": "markdown",
   "metadata": {},
   "source": [
    "## Query Assignments"
   ]
  },
  {
   "cell_type": "code",
   "execution_count": null,
   "metadata": {},
   "outputs": [],
   "source": []
  },
  {
   "cell_type": "code",
   "execution_count": null,
   "metadata": {
    "scrolled": true
   },
   "outputs": [],
   "source": [
    "# نام داروخانه هایی که شماره تلفن آنها با 1+ شروع می شود\n",
    "print(\"##1##\")\n",
    "a1 = list(\n",
    "    client.assignment.pharmacy.find(\n",
    "        filter={},  # Complete the filter\n",
    "        projection={\"name\": 1, \"_id\": 0},\n",
    "    )\n",
    ")\n",
    "# print(a1)"
   ]
  },
  {
   "cell_type": "code",
   "execution_count": null,
   "metadata": {},
   "outputs": [],
   "source": []
  },
  {
   "cell_type": "code",
   "execution_count": null,
   "metadata": {},
   "outputs": [],
   "source": [
    "# شماره ملی افرادی که بعد از تاریخ datetime.datetime(2000, 1, 1, 0, 0) متولد شده اند\n",
    "print(\"##2##\")\n",
    "a2 = list(\n",
    "    client.assignment.patient.find(\n",
    "        filter={},  # Complete the filter\n",
    "        projection={\"national_id\": 1, \"_id\": 0},\n",
    "    )\n",
    ")\n",
    "# print(a2)"
   ]
  },
  {
   "cell_type": "code",
   "execution_count": null,
   "metadata": {},
   "outputs": [],
   "source": []
  },
  {
   "cell_type": "code",
   "execution_count": null,
   "metadata": {},
   "outputs": [],
   "source": [
    "# تعداد نسخه هایی که دارای حداقل 15 دارو هستند\n",
    "print(\"##3##\")\n",
    "a3 = client.assignment.prescription.find(\n",
    "    filter={}  # Complete the filter\n",
    ").count()\n",
    "# print(a3)"
   ]
  },
  {
   "cell_type": "code",
   "execution_count": null,
   "metadata": {},
   "outputs": [],
   "source": []
  },
  {
   "cell_type": "code",
   "execution_count": null,
   "metadata": {},
   "outputs": [],
   "source": [
    "# کد ملی بیمارانی که اسم پزشک آنها \"Robert\" است\n",
    "print(\"##4##\")\n",
    "a4 = list(\n",
    "    client.assignment.patient.aggregate(\n",
    "        [  # Complete the pipeline\n",
    "        ]\n",
    "    )\n",
    ")\n",
    "# print(a4)"
   ]
  },
  {
   "cell_type": "code",
   "execution_count": null,
   "metadata": {},
   "outputs": [],
   "source": []
  },
  {
   "cell_type": "code",
   "execution_count": null,
   "metadata": {},
   "outputs": [],
   "source": [
    "# نام داروخانه ای که دارویی به گرانترین قیمت به آن فروخته شده است\n",
    "print(\"##5##\")\n",
    "a5 = client.assignment.sale.aggregate(\n",
    "    [  # Complete the pipeline\n",
    "    ]\n",
    ").next()\n",
    "# print(a5)"
   ]
  },
  {
   "cell_type": "code",
   "execution_count": null,
   "metadata": {},
   "outputs": [],
   "source": []
  },
  {
   "cell_type": "code",
   "execution_count": null,
   "metadata": {},
   "outputs": [],
   "source": [
    "# نام و فرمول پنج دارویی که گران ترین قیمت برای آنها ثبت شده است\n",
    "print(\"##6##\")\n",
    "a6 = list(\n",
    "    client.assignment.sale.aggregate(\n",
    "        [  # Complete the pipeline\n",
    "        ]\n",
    "    )\n",
    ")\n",
    "# print(a6)"
   ]
  },
  {
   "cell_type": "code",
   "execution_count": null,
   "metadata": {},
   "outputs": [],
   "source": []
  },
  {
   "cell_type": "code",
   "execution_count": null,
   "metadata": {},
   "outputs": [],
   "source": [
    "# نام تمام داروهایی که در تاریخ datetime.datetime(2020, 12, 21, 0, 0) تجویز شده اند\n",
    "print(\"##7##\")\n",
    "a7 = list(\n",
    "    client.assignment.prescription.aggregate(\n",
    "        [  # Complete the pipeline\n",
    "        ]\n",
    "    )\n",
    ")\n",
    "# print(a7)"
   ]
  },
  {
   "cell_type": "code",
   "execution_count": null,
   "metadata": {},
   "outputs": [],
   "source": []
  },
  {
   "cell_type": "code",
   "execution_count": null,
   "metadata": {},
   "outputs": [],
   "source": [
    "# نام تمام کارخانه هایی که داروی با فرمول \"C2H6Na4O12\" را تولید می کنند\n",
    "print(\"##8##\")\n",
    "a8 = list(\n",
    "    client.assignment.drug.aggregate(\n",
    "        [  # Complete the pipeline\n",
    "        ]\n",
    "    )\n",
    ")\n",
    "# print(a8)"
   ]
  },
  {
   "cell_type": "code",
   "execution_count": null,
   "metadata": {},
   "outputs": [],
   "source": []
  },
  {
   "cell_type": "code",
   "execution_count": null,
   "metadata": {
    "scrolled": false
   },
   "outputs": [],
   "source": [
    "# کاربرانی که در سبد آنها ده BasketItem وجود دارد\n",
    "print(\"##9##\")\n",
    "a9 = list(\n",
    "    client.assignment.user.find(\n",
    "        filter={},  # Complete the filter\n",
    "        projection={\"email\": 1, \"_id\": 0},\n",
    "    )\n",
    ")\n",
    "# print(a9)"
   ]
  },
  {
   "cell_type": "code",
   "execution_count": null,
   "metadata": {},
   "outputs": [],
   "source": []
  },
  {
   "cell_type": "code",
   "execution_count": null,
   "metadata": {},
   "outputs": [],
   "source": [
    "print(\"##10##\")\n",
    "a10 = client.assignment.product_item.aggregate(\n",
    "    [  # Complete the pipeline\n",
    "    ]\n",
    ").next()\n",
    "# print(a10)"
   ]
  },
  {
   "cell_type": "code",
   "execution_count": null,
   "metadata": {},
   "outputs": [],
   "source": []
  },
  {
   "cell_type": "code",
   "execution_count": null,
   "metadata": {},
   "outputs": [],
   "source": [
    "# شماره ملی رانندگانی که پلاک آنها به 25 ختم می شود\n",
    "print(\"##11##\")\n",
    "a11 = list(\n",
    "    client.assignment.driver.find(\n",
    "        filter={},  # Complete the filter\n",
    "        projection={\"_id\": 0, \"national_id\": 1},\n",
    "    )\n",
    ")\n",
    "# print(a11)"
   ]
  },
  {
   "cell_type": "code",
   "execution_count": null,
   "metadata": {},
   "outputs": [],
   "source": []
  },
  {
   "cell_type": "code",
   "execution_count": null,
   "metadata": {},
   "outputs": [],
   "source": [
    "print(\"##12##\")\n",
    "a12 = list(\n",
    "    client.assignment.comment.find(\n",
    "        filter={},  # Complete the filter\n",
    "        projection={\"_id\": 0, \"text\": 1},\n",
    "    )\n",
    ")\n",
    "# print(a12)"
   ]
  },
  {
   "cell_type": "code",
   "execution_count": null,
   "metadata": {},
   "outputs": [],
   "source": []
  },
  {
   "cell_type": "code",
   "execution_count": null,
   "metadata": {},
   "outputs": [],
   "source": [
    "print(\"##13##\")\n",
    "a13 = client.assignment.comment.aggregate(\n",
    "    []  # Complete the pipeline\n",
    ").next()\n",
    "# print(a13)"
   ]
  },
  {
   "cell_type": "code",
   "execution_count": null,
   "metadata": {},
   "outputs": [],
   "source": []
  },
  {
   "cell_type": "code",
   "execution_count": null,
   "metadata": {},
   "outputs": [],
   "source": [
    "answers = {\n",
    "    \"a1\": a1,\n",
    "    \"a2\": a2,\n",
    "    \"a3\": a3,\n",
    "    \"a4\": a4,\n",
    "    \"a5\": a5,\n",
    "    \"a6\": a6,\n",
    "    \"a7\": a7,\n",
    "    \"a8\": a8,\n",
    "    \"a9\": a9,\n",
    "    \"a10\": a10,\n",
    "    \"a11\": a11,\n",
    "    \"a12\": a12,\n",
    "    \"a13\": a13,\n",
    "}"
   ]
  },
  {
   "cell_type": "code",
   "execution_count": null,
   "metadata": {},
   "outputs": [],
   "source": [
    "import json\n",
    "with open(\"answers.json\", \"r\") as json_file:\n",
    "    target = json.load(json_file)"
   ]
  },
  {
   "cell_type": "code",
   "execution_count": null,
   "metadata": {},
   "outputs": [],
   "source": [
    "correct = 0\n",
    "for i in range(1, 14):\n",
    "    if answers[\"a{}\".format(i)] == target[\"a{}\".format(i)]:\n",
    "        print(\"Query {:2d} Correct!\".format(i))\n",
    "        correct += 1\n",
    "    else:\n",
    "        print(\"Query {:2d} Wrong!\".format(i))\n",
    "print(correct)"
   ]
  },
  {
   "cell_type": "markdown",
   "metadata": {},
   "source": [
    "## Print Result to File  "
   ]
  },
  {
   "cell_type": "code",
   "execution_count": null,
   "metadata": {},
   "outputs": [],
   "source": [
    "# Set your student number\n",
    "student_number = 90000000\n",
    "file_path = os.path.join(\n",
    "    os.environ.get(\"OUTPUT_LOCATION\"), \"{}.json\".format(student_number)\n",
    ")\n",
    "with open(file_path, \"w\") as file:\n",
    "    corrects = []\n",
    "    wrongs = []\n",
    "    for i in range(1, 14):\n",
    "        if answers[\"a{}\".format(i)] == target[\"a{}\".format(i)]:\n",
    "            corrects.append(i)\n",
    "        else:\n",
    "            wrongs.append(i)\n",
    "    json.dump({\"corrects\": corrects, \"wrongs\": wrongs, \"score\": len(corrects)}, file)"
   ]
  },
  {
   "cell_type": "code",
   "execution_count": null,
   "metadata": {},
   "outputs": [],
   "source": []
  }
 ],
 "metadata": {
  "kernelspec": {
   "display_name": "Python 3",
   "language": "python",
   "name": "python3"
  },
  "language_info": {
   "codemirror_mode": {
    "name": "ipython",
    "version": 3
   },
   "file_extension": ".py",
   "mimetype": "text/x-python",
   "name": "python",
   "nbconvert_exporter": "python",
   "pygments_lexer": "ipython3",
   "version": "3.7.1"
  }
 },
 "nbformat": 4,
 "nbformat_minor": 1
}
