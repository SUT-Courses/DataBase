{
 "cells": [
  {
   "cell_type": "code",
   "execution_count": 33,
   "metadata": {},
   "outputs": [
    {
     "name": "stdout",
     "output_type": "stream",
     "text": [
      "The nb_black extension is already loaded. To reload it, use:\n",
      "  %reload_ext nb_black\n"
     ]
    },
    {
     "data": {
      "application/javascript": [
       "\n",
       "            setTimeout(function() {\n",
       "                var nbb_cell_id = 33;\n",
       "                var nbb_unformatted_code = \"%load_ext nb_black\";\n",
       "                var nbb_formatted_code = \"%load_ext nb_black\";\n",
       "                var nbb_cells = Jupyter.notebook.get_cells();\n",
       "                for (var i = 0; i < nbb_cells.length; ++i) {\n",
       "                    if (nbb_cells[i].input_prompt_number == nbb_cell_id) {\n",
       "                        if (nbb_cells[i].get_text() == nbb_unformatted_code) {\n",
       "                             nbb_cells[i].set_text(nbb_formatted_code);\n",
       "                        }\n",
       "                        break;\n",
       "                    }\n",
       "                }\n",
       "            }, 500);\n",
       "            "
      ],
      "text/plain": [
       "<IPython.core.display.Javascript object>"
      ]
     },
     "metadata": {},
     "output_type": "display_data"
    }
   ],
   "source": [
    "%load_ext nb_black"
   ]
  },
  {
   "cell_type": "code",
   "execution_count": 2,
   "metadata": {},
   "outputs": [
    {
     "data": {
      "application/javascript": [
       "\n",
       "            setTimeout(function() {\n",
       "                var nbb_cell_id = 2;\n",
       "                var nbb_unformatted_code = \"%load_ext autoreload\\n%autoreload 2\";\n",
       "                var nbb_formatted_code = \"%load_ext autoreload\\n%autoreload 2\";\n",
       "                var nbb_cells = Jupyter.notebook.get_cells();\n",
       "                for (var i = 0; i < nbb_cells.length; ++i) {\n",
       "                    if (nbb_cells[i].input_prompt_number == nbb_cell_id) {\n",
       "                        if (nbb_cells[i].get_text() == nbb_unformatted_code) {\n",
       "                             nbb_cells[i].set_text(nbb_formatted_code);\n",
       "                        }\n",
       "                        break;\n",
       "                    }\n",
       "                }\n",
       "            }, 500);\n",
       "            "
      ],
      "text/plain": [
       "<IPython.core.display.Javascript object>"
      ]
     },
     "metadata": {},
     "output_type": "display_data"
    }
   ],
   "source": [
    "%load_ext autoreload\n",
    "%autoreload 2"
   ]
  },
  {
   "cell_type": "code",
   "execution_count": 4,
   "metadata": {
    "scrolled": true
   },
   "outputs": [
    {
     "data": {
      "application/javascript": [
       "\n",
       "            setTimeout(function() {\n",
       "                var nbb_cell_id = 4;\n",
       "                var nbb_unformatted_code = \"# !pip3 install pymongo\\n# !pip3 install mongoengine\\n# !pip3 install Faker\";\n",
       "                var nbb_formatted_code = \"# !pip3 install pymongo\\n# !pip3 install mongoengine\\n# !pip3 install Faker\";\n",
       "                var nbb_cells = Jupyter.notebook.get_cells();\n",
       "                for (var i = 0; i < nbb_cells.length; ++i) {\n",
       "                    if (nbb_cells[i].input_prompt_number == nbb_cell_id) {\n",
       "                        if (nbb_cells[i].get_text() == nbb_unformatted_code) {\n",
       "                             nbb_cells[i].set_text(nbb_formatted_code);\n",
       "                        }\n",
       "                        break;\n",
       "                    }\n",
       "                }\n",
       "            }, 500);\n",
       "            "
      ],
      "text/plain": [
       "<IPython.core.display.Javascript object>"
      ]
     },
     "metadata": {},
     "output_type": "display_data"
    }
   ],
   "source": [
    "# !pip3 install pymongo\n",
    "# !pip3 install mongoengine\n",
    "# !pip3 install Faker"
   ]
  },
  {
   "cell_type": "code",
   "execution_count": 17,
   "metadata": {},
   "outputs": [
    {
     "data": {
      "application/javascript": [
       "\n",
       "            setTimeout(function() {\n",
       "                var nbb_cell_id = 17;\n",
       "                var nbb_unformatted_code = \"import sys\\n\\nsys.path.insert(0, \\\"..\\\")\";\n",
       "                var nbb_formatted_code = \"import sys\\n\\nsys.path.insert(0, \\\"..\\\")\";\n",
       "                var nbb_cells = Jupyter.notebook.get_cells();\n",
       "                for (var i = 0; i < nbb_cells.length; ++i) {\n",
       "                    if (nbb_cells[i].input_prompt_number == nbb_cell_id) {\n",
       "                        if (nbb_cells[i].get_text() == nbb_unformatted_code) {\n",
       "                             nbb_cells[i].set_text(nbb_formatted_code);\n",
       "                        }\n",
       "                        break;\n",
       "                    }\n",
       "                }\n",
       "            }, 500);\n",
       "            "
      ],
      "text/plain": [
       "<IPython.core.display.Javascript object>"
      ]
     },
     "metadata": {},
     "output_type": "display_data"
    }
   ],
   "source": [
    "# Prepare environment for importing from src\n",
    "import sys\n",
    "\n",
    "sys.path.insert(0, \"..\")"
   ]
  },
  {
   "cell_type": "markdown",
   "metadata": {},
   "source": [
    "## Create Some Fake Data! "
   ]
  },
  {
   "cell_type": "code",
   "execution_count": 28,
   "metadata": {},
   "outputs": [
    {
     "data": {
      "application/javascript": [
       "\n",
       "            setTimeout(function() {\n",
       "                var nbb_cell_id = 28;\n",
       "                var nbb_unformatted_code = \"import random\\nfrom faker import Faker\\nfrom src.data import drug_formulas, specialties, drug_names\\n\\nfake = Faker()\";\n",
       "                var nbb_formatted_code = \"import random\\nfrom faker import Faker\\nfrom src.data import drug_formulas, specialties, drug_names\\n\\nfake = Faker()\";\n",
       "                var nbb_cells = Jupyter.notebook.get_cells();\n",
       "                for (var i = 0; i < nbb_cells.length; ++i) {\n",
       "                    if (nbb_cells[i].input_prompt_number == nbb_cell_id) {\n",
       "                        if (nbb_cells[i].get_text() == nbb_unformatted_code) {\n",
       "                             nbb_cells[i].set_text(nbb_formatted_code);\n",
       "                        }\n",
       "                        break;\n",
       "                    }\n",
       "                }\n",
       "            }, 500);\n",
       "            "
      ],
      "text/plain": [
       "<IPython.core.display.Javascript object>"
      ]
     },
     "metadata": {},
     "output_type": "display_data"
    }
   ],
   "source": [
    "import random\n",
    "\n",
    "from faker import Faker\n",
    "from src.data import drug_formulas, specialties, drug_names\n",
    "\n",
    "fake = Faker()"
   ]
  },
  {
   "cell_type": "code",
   "execution_count": 24,
   "metadata": {},
   "outputs": [
    {
     "data": {
      "application/javascript": [
       "\n",
       "            setTimeout(function() {\n",
       "                var nbb_cell_id = 24;\n",
       "                var nbb_unformatted_code = \"def generate_national_id(prev_national_ids):\\n    nat_id = fake.numerify(text=\\\"##########\\\")\\n    while nat_id in prev_national_ids:\\n        nat_id = fake.numerify(text=\\\"##########\\\")\\n    prev_national_ids.add(nat_id)\\n    return nat_id\";\n",
       "                var nbb_formatted_code = \"def generate_national_id(prev_national_ids):\\n    nat_id = fake.numerify(text=\\\"##########\\\")\\n    while nat_id in prev_national_ids:\\n        nat_id = fake.numerify(text=\\\"##########\\\")\\n    prev_national_ids.add(nat_id)\\n    return nat_id\";\n",
       "                var nbb_cells = Jupyter.notebook.get_cells();\n",
       "                for (var i = 0; i < nbb_cells.length; ++i) {\n",
       "                    if (nbb_cells[i].input_prompt_number == nbb_cell_id) {\n",
       "                        if (nbb_cells[i].get_text() == nbb_unformatted_code) {\n",
       "                             nbb_cells[i].set_text(nbb_formatted_code);\n",
       "                        }\n",
       "                        break;\n",
       "                    }\n",
       "                }\n",
       "            }, 500);\n",
       "            "
      ],
      "text/plain": [
       "<IPython.core.display.Javascript object>"
      ]
     },
     "metadata": {},
     "output_type": "display_data"
    }
   ],
   "source": [
    "def generate_national_id(prev_national_ids):\n",
    "    nat_id = fake.numerify(text=\"##########\")\n",
    "    while nat_id in prev_national_ids:\n",
    "        nat_id = fake.numerify(text=\"##########\")\n",
    "    prev_national_ids.add(nat_id)\n",
    "    return nat_id"
   ]
  },
  {
   "cell_type": "code",
   "execution_count": 72,
   "metadata": {},
   "outputs": [
    {
     "data": {
      "application/javascript": [
       "\n",
       "            setTimeout(function() {\n",
       "                var nbb_cell_id = 72;\n",
       "                var nbb_unformatted_code = \"docs_national_ids = set()\\npatients_national_ids = set()\\ndoctors = []\\npatients = []\\npharmacies = []\\ncompanies = []\\ncontracts = []\\ndrugs = []\\nprescription_dates = []\\nfor _ in range(10):\\n    doctors.append(\\n        {\\n            \\\"national_id\\\": generate_national_id(docs_national_ids),\\n            \\\"first_name\\\": fake.first_name(),\\n            \\\"last_name\\\": fake.last_name(),\\n            \\\"specialty\\\": random.choice(specialties),\\n            \\\"backgronud\\\": random.randint(0, 80),\\n        }\\n    )\\n    patients.append(\\n        {\\n            \\\"national_id\\\": generate_national_id(patients_national_ids),\\n            \\\"first_name\\\": fake.first_name(),\\n            \\\"last_name\\\": fake.last_name(),\\n            \\\"address\\\": fake.address(),\\n            \\\"birthdate\\\": str(fake.profile(fields=[\\\"birthdate\\\"])[\\\"birthdate\\\"]),\\n            \\\"password\\\": fake.profile(fields=[\\\"username\\\"])[\\\"username\\\"],\\n            \\\"main_doctor\\\": random.sample(docs_national_ids, 1)[0],\\n        }\\n    )\\n    pharmacies.append(\\n        {\\n            \\\"name\\\": fake.company(),\\n            \\\"address\\\": fake.address(),\\n            \\\"telephone\\\": fake.phone_number(),\\n        }\\n    )\\n    companies.append(\\n        {\\n            \\\"name\\\": fake.company(),\\n            \\\"telephone\\\": fake.phone_number(),\\n        }\\n    )\\n    contracts.append(\\n        {\\n            \\\"text\\\": fake.paragraph(nb_sentences=5),\\n            \\\"start_date\\\": str(\\n                fake.date_this_decade(before_today=True, after_today=False)\\n            ),\\n            \\\"end_date\\\": str(fake.future_date()),\\n        }\\n    )\\n    drugs.append(\\n        {\\n            \\\"name\\\": random.choice(drug_names),\\n            \\\"formula\\\": random.choice(drug_formulas),\\n        }\\n    )\\ndata = {\\n    \\\"doctors\\\": doctors,\\n    \\\"patients\\\": patients,\\n    \\\"pharmacies\\\": pharmacies,\\n    \\\"companies\\\": companies,\\n    \\\"contracts\\\": contracts,\\n    \\\"drugs\\\": drugs,\\n    \\\"prescription_dates\\\": prescription_dates,\\n}\";\n",
       "                var nbb_formatted_code = \"docs_national_ids = set()\\npatients_national_ids = set()\\ndoctors = []\\npatients = []\\npharmacies = []\\ncompanies = []\\ncontracts = []\\ndrugs = []\\nprescription_dates = []\\nfor _ in range(10):\\n    doctors.append(\\n        {\\n            \\\"national_id\\\": generate_national_id(docs_national_ids),\\n            \\\"first_name\\\": fake.first_name(),\\n            \\\"last_name\\\": fake.last_name(),\\n            \\\"specialty\\\": random.choice(specialties),\\n            \\\"backgronud\\\": random.randint(0, 80),\\n        }\\n    )\\n    patients.append(\\n        {\\n            \\\"national_id\\\": generate_national_id(patients_national_ids),\\n            \\\"first_name\\\": fake.first_name(),\\n            \\\"last_name\\\": fake.last_name(),\\n            \\\"address\\\": fake.address(),\\n            \\\"birthdate\\\": str(fake.profile(fields=[\\\"birthdate\\\"])[\\\"birthdate\\\"]),\\n            \\\"password\\\": fake.profile(fields=[\\\"username\\\"])[\\\"username\\\"],\\n            \\\"main_doctor\\\": random.sample(docs_national_ids, 1)[0],\\n        }\\n    )\\n    pharmacies.append(\\n        {\\n            \\\"name\\\": fake.company(),\\n            \\\"address\\\": fake.address(),\\n            \\\"telephone\\\": fake.phone_number(),\\n        }\\n    )\\n    companies.append(\\n        {\\n            \\\"name\\\": fake.company(),\\n            \\\"telephone\\\": fake.phone_number(),\\n        }\\n    )\\n    contracts.append(\\n        {\\n            \\\"text\\\": fake.paragraph(nb_sentences=5),\\n            \\\"start_date\\\": str(\\n                fake.date_this_decade(before_today=True, after_today=False)\\n            ),\\n            \\\"end_date\\\": str(fake.future_date()),\\n        }\\n    )\\n    drugs.append(\\n        {\\n            \\\"name\\\": random.choice(drug_names),\\n            \\\"formula\\\": random.choice(drug_formulas),\\n        }\\n    )\\ndata = {\\n    \\\"doctors\\\": doctors,\\n    \\\"patients\\\": patients,\\n    \\\"pharmacies\\\": pharmacies,\\n    \\\"companies\\\": companies,\\n    \\\"contracts\\\": contracts,\\n    \\\"drugs\\\": drugs,\\n    \\\"prescription_dates\\\": prescription_dates,\\n}\";\n",
       "                var nbb_cells = Jupyter.notebook.get_cells();\n",
       "                for (var i = 0; i < nbb_cells.length; ++i) {\n",
       "                    if (nbb_cells[i].input_prompt_number == nbb_cell_id) {\n",
       "                        if (nbb_cells[i].get_text() == nbb_unformatted_code) {\n",
       "                             nbb_cells[i].set_text(nbb_formatted_code);\n",
       "                        }\n",
       "                        break;\n",
       "                    }\n",
       "                }\n",
       "            }, 500);\n",
       "            "
      ],
      "text/plain": [
       "<IPython.core.display.Javascript object>"
      ]
     },
     "metadata": {},
     "output_type": "display_data"
    }
   ],
   "source": [
    "docs_national_ids = set()\n",
    "patients_national_ids = set()\n",
    "doctors = []\n",
    "patients = []\n",
    "pharmacies = []\n",
    "companies = []\n",
    "contracts = []\n",
    "drugs = []\n",
    "prescription_dates = []\n",
    "for _ in range(10):\n",
    "    doctors.append(\n",
    "        {\n",
    "            \"national_id\": generate_national_id(docs_national_ids),\n",
    "            \"first_name\": fake.first_name(),\n",
    "            \"last_name\": fake.last_name(),\n",
    "            \"specialty\": random.choice(specialties),\n",
    "            \"backgronud\": random.randint(0, 80),\n",
    "        }\n",
    "    )\n",
    "    patients.append(\n",
    "        {\n",
    "            \"national_id\": generate_national_id(patients_national_ids),\n",
    "            \"first_name\": fake.first_name(),\n",
    "            \"last_name\": fake.last_name(),\n",
    "            \"address\": fake.address(),\n",
    "            \"birthdate\": str(fake.profile(fields=[\"birthdate\"])[\"birthdate\"]),\n",
    "            \"password\": fake.profile(fields=[\"username\"])[\"username\"],\n",
    "            \"main_doctor\": random.sample(docs_national_ids, 1)[0],\n",
    "        }\n",
    "    )\n",
    "    pharmacies.append(\n",
    "        {\n",
    "            \"name\": fake.company(),\n",
    "            \"address\": fake.address(),\n",
    "            \"telephone\": fake.phone_number(),\n",
    "        }\n",
    "    )\n",
    "    companies.append(\n",
    "        {\n",
    "            \"name\": fake.company(),\n",
    "            \"telephone\": fake.phone_number(),\n",
    "        }\n",
    "    )\n",
    "    contracts.append(\n",
    "        {\n",
    "            \"text\": fake.paragraph(nb_sentences=5),\n",
    "            \"start_date\": str(\n",
    "                fake.date_this_decade(before_today=True, after_today=False)\n",
    "            ),\n",
    "            \"end_date\": str(fake.future_date()),\n",
    "        }\n",
    "    )\n",
    "    drugs.append(\n",
    "        {\n",
    "            \"name\": random.choice(drug_names),\n",
    "            \"formula\": random.choice(drug_formulas),\n",
    "        }\n",
    "    )\n",
    "data = {\n",
    "    \"doctors\": doctors,\n",
    "    \"patients\": patients,\n",
    "    \"pharmacies\": pharmacies,\n",
    "    \"companies\": companies,\n",
    "    \"contracts\": contracts,\n",
    "    \"drugs\": drugs,\n",
    "    \"prescription_dates\": prescription_dates,\n",
    "}"
   ]
  },
  {
   "cell_type": "code",
   "execution_count": 73,
   "metadata": {},
   "outputs": [
    {
     "data": {
      "application/javascript": [
       "\n",
       "            setTimeout(function() {\n",
       "                var nbb_cell_id = 73;\n",
       "                var nbb_unformatted_code = \"import json\\n\\nwith open(\\\"medical_data.json\\\", \\\"w\\\") as json_file:\\n    json.dump(data, json_file)\";\n",
       "                var nbb_formatted_code = \"import json\\n\\nwith open(\\\"medical_data.json\\\", \\\"w\\\") as json_file:\\n    json.dump(data, json_file)\";\n",
       "                var nbb_cells = Jupyter.notebook.get_cells();\n",
       "                for (var i = 0; i < nbb_cells.length; ++i) {\n",
       "                    if (nbb_cells[i].input_prompt_number == nbb_cell_id) {\n",
       "                        if (nbb_cells[i].get_text() == nbb_unformatted_code) {\n",
       "                             nbb_cells[i].set_text(nbb_formatted_code);\n",
       "                        }\n",
       "                        break;\n",
       "                    }\n",
       "                }\n",
       "            }, 500);\n",
       "            "
      ],
      "text/plain": [
       "<IPython.core.display.Javascript object>"
      ]
     },
     "metadata": {},
     "output_type": "display_data"
    }
   ],
   "source": [
    "import json\n",
    "\n",
    "with open(\"medical_data.json\", \"w\") as json_file:\n",
    "    json.dump(data, json_file)"
   ]
  },
  {
   "cell_type": "markdown",
   "metadata": {},
   "source": [
    "## Define Documents' Schema "
   ]
  },
  {
   "cell_type": "code",
   "execution_count": 91,
   "metadata": {},
   "outputs": [
    {
     "data": {
      "application/javascript": [
       "\n",
       "            setTimeout(function() {\n",
       "                var nbb_cell_id = 91;\n",
       "                var nbb_unformatted_code = \"class Doctor(Document):\\n    national_id = StringField(\\n        min_length=10, max_length=10, required=True, primary_key=True\\n    )\\n    first_name = StringField(max_length=50, required=True)\\n    last_name = StringField(max_length=50, required=True)\\n    specialty = StringField(max_length=50, required=True)\\n    background = IntField(min_value=0, max_value=100, required=True)\\n\\n\\nclass Patient(Document):\\n    national_id = StringField(\\n        min_length=10, max_length=10, required=True, primary_key=True\\n    )\\n    first_name = StringField(max_length=50, required=True)\\n    last_name = StringField(max_length=50, required=True)\\n    address = StringField(max_length=256)\\n    birthdate = DateField(required=True)\\n    password = StringField(max_length=256, required=True)\\n    main_doctor = ReferenceField(Doctor, required=True)\\n\\n\\nclass Pharmacy(Document):\\n    name = StringField(max_length=256, required=True)\\n    address = StringField(max_length=256)\\n    telephone = StringField(max_length=256)\\n\\n\\nclass Company(Document):\\n    name = StringField(max_length=50, required=True, primary_key=True)\\n    telephone = StringField(max_length=15)\\n\\n\\nclass Contract(Document):\\n    text = StringField()\\n    start_date = DateField(required=True)\\n    end_date = DateField(required=True)\\n    pharmacy = ReferenceField(Pharmacy, required=True)\\n    company = ReferenceField(Company, required=True)\\n\\n\\nclass Drug(Document):\\n    name = StringField(\\n        max_length=50,\\n        required=True,\\n        unique_with=\\\"company\\\",\\n    )\\n    company = ReferenceField(Company, required=True)\\n    formula = StringField(max_length=100, required=True)\\n\\n\\nclass Sale(Document):\\n    drug = ReferenceField(Drug, required=True, unique_with=\\\"store\\\")\\n    store = ReferenceField(Pharmacy, required=True)\\n    price = FloatField(required=True)\\n\\n\\nclass PrescriptionItem(EmbeddedDocument):\\n    drugs = ReferenceField(Drug, required=True)\\n    quantity = IntField(min_value=0, required=True)\\n\\n\\nclass Prescription(Document):\\n    date = DateField(required=True)\\n    items = EmbeddedDocumentListField(PrescriptionItem, required=True)\\n    doctor = ReferenceField(Doctor, required=True)\\n    patient = ReferenceField(Patient, required=True)\";\n",
       "                var nbb_formatted_code = \"class Doctor(Document):\\n    national_id = StringField(\\n        min_length=10, max_length=10, required=True, primary_key=True\\n    )\\n    first_name = StringField(max_length=50, required=True)\\n    last_name = StringField(max_length=50, required=True)\\n    specialty = StringField(max_length=50, required=True)\\n    background = IntField(min_value=0, max_value=100, required=True)\\n\\n\\nclass Patient(Document):\\n    national_id = StringField(\\n        min_length=10, max_length=10, required=True, primary_key=True\\n    )\\n    first_name = StringField(max_length=50, required=True)\\n    last_name = StringField(max_length=50, required=True)\\n    address = StringField(max_length=256)\\n    birthdate = DateField(required=True)\\n    password = StringField(max_length=256, required=True)\\n    main_doctor = ReferenceField(Doctor, required=True)\\n\\n\\nclass Pharmacy(Document):\\n    name = StringField(max_length=256, required=True)\\n    address = StringField(max_length=256)\\n    telephone = StringField(max_length=256)\\n\\n\\nclass Company(Document):\\n    name = StringField(max_length=50, required=True, primary_key=True)\\n    telephone = StringField(max_length=15)\\n\\n\\nclass Contract(Document):\\n    text = StringField()\\n    start_date = DateField(required=True)\\n    end_date = DateField(required=True)\\n    pharmacy = ReferenceField(Pharmacy, required=True)\\n    company = ReferenceField(Company, required=True)\\n\\n\\nclass Drug(Document):\\n    name = StringField(\\n        max_length=50,\\n        required=True,\\n        unique_with=\\\"company\\\",\\n    )\\n    company = ReferenceField(Company, required=True)\\n    formula = StringField(max_length=100, required=True)\\n\\n\\nclass Sale(Document):\\n    drug = ReferenceField(Drug, required=True, unique_with=\\\"store\\\")\\n    store = ReferenceField(Pharmacy, required=True)\\n    price = FloatField(required=True)\\n\\n\\nclass PrescriptionItem(EmbeddedDocument):\\n    drugs = ReferenceField(Drug, required=True)\\n    quantity = IntField(min_value=0, required=True)\\n\\n\\nclass Prescription(Document):\\n    date = DateField(required=True)\\n    items = EmbeddedDocumentListField(PrescriptionItem, required=True)\\n    doctor = ReferenceField(Doctor, required=True)\\n    patient = ReferenceField(Patient, required=True)\";\n",
       "                var nbb_cells = Jupyter.notebook.get_cells();\n",
       "                for (var i = 0; i < nbb_cells.length; ++i) {\n",
       "                    if (nbb_cells[i].input_prompt_number == nbb_cell_id) {\n",
       "                        if (nbb_cells[i].get_text() == nbb_unformatted_code) {\n",
       "                             nbb_cells[i].set_text(nbb_formatted_code);\n",
       "                        }\n",
       "                        break;\n",
       "                    }\n",
       "                }\n",
       "            }, 500);\n",
       "            "
      ],
      "text/plain": [
       "<IPython.core.display.Javascript object>"
      ]
     },
     "metadata": {},
     "output_type": "display_data"
    }
   ],
   "source": [
    "class Doctor(Document):\n",
    "    national_id = StringField(\n",
    "        min_length=10, max_length=10, required=True, primary_key=True\n",
    "    )\n",
    "    first_name = StringField(max_length=50, required=True)\n",
    "    last_name = StringField(max_length=50, required=True)\n",
    "    specialty = StringField(max_length=50, required=True)\n",
    "    background = IntField(min_value=0, max_value=100, required=True)\n",
    "\n",
    "\n",
    "class Patient(Document):\n",
    "    national_id = StringField(\n",
    "        min_length=10, max_length=10, required=True, primary_key=True\n",
    "    )\n",
    "    first_name = StringField(max_length=50, required=True)\n",
    "    last_name = StringField(max_length=50, required=True)\n",
    "    address = StringField(max_length=256)\n",
    "    birthdate = DateField(required=True)\n",
    "    password = StringField(max_length=256, required=True)\n",
    "    main_doctor = ReferenceField(Doctor, required=True)\n",
    "\n",
    "\n",
    "class Pharmacy(Document):\n",
    "    name = StringField(max_length=256, required=True)\n",
    "    address = StringField(max_length=256)\n",
    "    telephone = StringField(max_length=256)\n",
    "\n",
    "\n",
    "class Company(Document):\n",
    "    name = StringField(max_length=50, required=True, primary_key=True)\n",
    "    telephone = StringField(max_length=15)\n",
    "\n",
    "\n",
    "class Contract(Document):\n",
    "    text = StringField()\n",
    "    start_date = DateField(required=True)\n",
    "    end_date = DateField(required=True)\n",
    "    pharmacy = ReferenceField(Pharmacy, required=True)\n",
    "    company = ReferenceField(Company, required=True)\n",
    "\n",
    "\n",
    "class Drug(Document):\n",
    "    name = StringField(\n",
    "        max_length=50,\n",
    "        required=True,\n",
    "        unique_with=\"company\",\n",
    "    )\n",
    "    company = ReferenceField(Company, required=True)\n",
    "    formula = StringField(max_length=100, required=True)\n",
    "\n",
    "\n",
    "class Sale(Document):\n",
    "    drug = ReferenceField(Drug, required=True, unique_with=\"store\")\n",
    "    store = ReferenceField(Pharmacy, required=True)\n",
    "    price = FloatField(required=True)\n",
    "\n",
    "\n",
    "class PrescriptionItem(EmbeddedDocument):\n",
    "    drugs = ReferenceField(Drug, required=True)\n",
    "    quantity = IntField(min_value=0, required=True)\n",
    "\n",
    "\n",
    "class Prescription(Document):\n",
    "    date = DateField(required=True)\n",
    "    items = EmbeddedDocumentListField(PrescriptionItem, required=True)\n",
    "    doctor = ReferenceField(Doctor, required=True)\n",
    "    patient = ReferenceField(Patient, required=True)"
   ]
  },
  {
   "cell_type": "code",
   "execution_count": 95,
   "metadata": {},
   "outputs": [
    {
     "data": {
      "application/javascript": [
       "\n",
       "            setTimeout(function() {\n",
       "                var nbb_cell_id = 95;\n",
       "                var nbb_unformatted_code = \"from bson.objectid import ObjectId\\n\\nTYPE = (\\n    (\\\"C\\\", \\\"Children\\\"),\\n    (\\\"M\\\", \\\"Men\\\"),\\n    (\\\"W\\\", \\\"Women\\\"),\\n)\\n\\n\\nclass Product(Document):\\n    name = StringField(max_length=128, required=True, unique_with=[\\\"seller\\\", \\\"ptype\\\"])\\n    seller = StringField(max_length=128, required=True)\\n    ptype = StringField(max_length=1, choices=TYPE)\\n    price = FloatField(min_value=0.0)\\n\\n\\nSIZE = (\\n    (\\\"S\\\", \\\"Small\\\"),\\n    (\\\"M\\\", \\\"Medium\\\"),\\n    (\\\"L\\\", \\\"Large\\\"),\\n    (\\\"XL\\\", \\\"Extra Large\\\"),\\n    (\\\"XXL\\\", \\\"Extra Extra Large\\\"),\\n)\\n\\n\\nclass ProductItem(Document):\\n    #     https://stackoverflow.com/questions/10144852/how-can-i-create-unique-ids-for-embedded-documents-in-mongodb\\n    #     _id = ObjectIdField( required=True, default=lambda: ObjectId() )\\n    product = ReferenceField(\\n        Product, reverse_delete_rule=CASCADE, unique_with=[\\\"size\\\", \\\"color\\\"]\\n    )\\n    color = StringField(max_length=64, required=True)\\n    size = StringField(max_length=3, choices=SIZE, required=True)\\n    quantity = IntField(min_value=0, required=True)\\n\\n\\nclass BasketItem(EmbeddedDocument):\\n    product_item = ReferenceField(ProductItem)\\n    quantity = IntField(min_value=1, default=1, required=True)\\n\\n\\nclass User(Document):\\n    email = EmailField(required=True, primary_key=True)\\n    first_name = StringField(max_length=50, required=True)\\n    last_name = StringField(max_length=50, required=True)\\n    city = StringField(max_length=50)\\n    address = StringField(max_length=256)\\n    telephone = StringField(max_length=15)\\n    password = StringField(max_length=256, required=True)\\n    basket_items = EmbeddedDocumentListField(BasketItem)\\n\\n\\nclass Driver(Document):\\n    national_id = StringField(\\n        min_length=10, max_length=10, required=True, primary_key=True\\n    )\\n    first_name = StringField(max_length=50, required=True)\\n    last_name = StringField(max_length=50, required=True)\\n    telephone = StringField(max_length=15)\\n    plate_number = StringField(max_length=15)\\n\\n\\nDELIVERY_TYPES = (\\n    (\\\"N\\\", \\\"Normal\\\"),\\n    (\\\"S\\\", \\\"Special\\\"),\\n)\\nDELIVERY_STATUSES = ((\\\"P\\\", \\\"Pending\\\"), (\\\"R\\\", \\\"Registered\\\"), (\\\"C\\\", \\\"Completed\\\"))\\n\\n\\nclass Order(Document):\\n    user = ReferenceField(document_type=User, reverse_delete_rule=NULLIFY)\\n    date = DateField(required=True)\\n    items = EmbeddedDocumentListField(BasketItem)\\n    delivery_type = StringField(max_length=1, choices=DELIVERY_TYPES, required=True)\\n    delivery_status = StringField(\\n        max_length=1, choices=DELIVERY_STATUSES, required=True\\n    )\\n\\n\\nclass Delivery(Document):\\n    date = DateField(required=True)\\n    capacity = IntField(required=True)\\n    driver = ReferenceField(Driver, reverse_delete_rule=NULLIFY)\\n\\n\\nclass Comment(Document):\\n    user = ReferenceField(document_type=User, reverse_delete_rule=NULLIFY)\\n    product = ReferenceField(\\n        Product, reverse_delete_rule=CASCADE\\n    )\\n    rating = IntField(min_value=0, max_value=5, required=True)\\n    text = StringField()\";\n",
       "                var nbb_formatted_code = \"from bson.objectid import ObjectId\\n\\nTYPE = (\\n    (\\\"C\\\", \\\"Children\\\"),\\n    (\\\"M\\\", \\\"Men\\\"),\\n    (\\\"W\\\", \\\"Women\\\"),\\n)\\n\\n\\nclass Product(Document):\\n    name = StringField(max_length=128, required=True, unique_with=[\\\"seller\\\", \\\"ptype\\\"])\\n    seller = StringField(max_length=128, required=True)\\n    ptype = StringField(max_length=1, choices=TYPE)\\n    price = FloatField(min_value=0.0)\\n\\n\\nSIZE = (\\n    (\\\"S\\\", \\\"Small\\\"),\\n    (\\\"M\\\", \\\"Medium\\\"),\\n    (\\\"L\\\", \\\"Large\\\"),\\n    (\\\"XL\\\", \\\"Extra Large\\\"),\\n    (\\\"XXL\\\", \\\"Extra Extra Large\\\"),\\n)\\n\\n\\nclass ProductItem(Document):\\n    #     https://stackoverflow.com/questions/10144852/how-can-i-create-unique-ids-for-embedded-documents-in-mongodb\\n    #     _id = ObjectIdField( required=True, default=lambda: ObjectId() )\\n    product = ReferenceField(\\n        Product, reverse_delete_rule=CASCADE, unique_with=[\\\"size\\\", \\\"color\\\"]\\n    )\\n    color = StringField(max_length=64, required=True)\\n    size = StringField(max_length=3, choices=SIZE, required=True)\\n    quantity = IntField(min_value=0, required=True)\\n\\n\\nclass BasketItem(EmbeddedDocument):\\n    product_item = ReferenceField(ProductItem)\\n    quantity = IntField(min_value=1, default=1, required=True)\\n\\n\\nclass User(Document):\\n    email = EmailField(required=True, primary_key=True)\\n    first_name = StringField(max_length=50, required=True)\\n    last_name = StringField(max_length=50, required=True)\\n    city = StringField(max_length=50)\\n    address = StringField(max_length=256)\\n    telephone = StringField(max_length=15)\\n    password = StringField(max_length=256, required=True)\\n    basket_items = EmbeddedDocumentListField(BasketItem)\\n\\n\\nclass Driver(Document):\\n    national_id = StringField(\\n        min_length=10, max_length=10, required=True, primary_key=True\\n    )\\n    first_name = StringField(max_length=50, required=True)\\n    last_name = StringField(max_length=50, required=True)\\n    telephone = StringField(max_length=15)\\n    plate_number = StringField(max_length=15)\\n\\n\\nDELIVERY_TYPES = (\\n    (\\\"N\\\", \\\"Normal\\\"),\\n    (\\\"S\\\", \\\"Special\\\"),\\n)\\nDELIVERY_STATUSES = ((\\\"P\\\", \\\"Pending\\\"), (\\\"R\\\", \\\"Registered\\\"), (\\\"C\\\", \\\"Completed\\\"))\\n\\n\\nclass Order(Document):\\n    user = ReferenceField(document_type=User, reverse_delete_rule=NULLIFY)\\n    date = DateField(required=True)\\n    items = EmbeddedDocumentListField(BasketItem)\\n    delivery_type = StringField(max_length=1, choices=DELIVERY_TYPES, required=True)\\n    delivery_status = StringField(\\n        max_length=1, choices=DELIVERY_STATUSES, required=True\\n    )\\n\\n\\nclass Delivery(Document):\\n    date = DateField(required=True)\\n    capacity = IntField(required=True)\\n    driver = ReferenceField(Driver, reverse_delete_rule=NULLIFY)\\n\\n\\nclass Comment(Document):\\n    user = ReferenceField(document_type=User, reverse_delete_rule=NULLIFY)\\n    product = ReferenceField(Product, reverse_delete_rule=CASCADE)\\n    rating = IntField(min_value=0, max_value=5, required=True)\\n    text = StringField()\";\n",
       "                var nbb_cells = Jupyter.notebook.get_cells();\n",
       "                for (var i = 0; i < nbb_cells.length; ++i) {\n",
       "                    if (nbb_cells[i].input_prompt_number == nbb_cell_id) {\n",
       "                        if (nbb_cells[i].get_text() == nbb_unformatted_code) {\n",
       "                             nbb_cells[i].set_text(nbb_formatted_code);\n",
       "                        }\n",
       "                        break;\n",
       "                    }\n",
       "                }\n",
       "            }, 500);\n",
       "            "
      ],
      "text/plain": [
       "<IPython.core.display.Javascript object>"
      ]
     },
     "metadata": {},
     "output_type": "display_data"
    }
   ],
   "source": [
    "from bson.objectid import ObjectId\n",
    "\n",
    "TYPE = (\n",
    "    (\"C\", \"Children\"),\n",
    "    (\"M\", \"Men\"),\n",
    "    (\"W\", \"Women\"),\n",
    ")\n",
    "\n",
    "\n",
    "class Product(Document):\n",
    "    name = StringField(max_length=128, required=True, unique_with=[\"seller\", \"ptype\"])\n",
    "    seller = StringField(max_length=128, required=True)\n",
    "    ptype = StringField(max_length=1, choices=TYPE)\n",
    "    price = FloatField(min_value=0.0)\n",
    "\n",
    "\n",
    "SIZE = (\n",
    "    (\"S\", \"Small\"),\n",
    "    (\"M\", \"Medium\"),\n",
    "    (\"L\", \"Large\"),\n",
    "    (\"XL\", \"Extra Large\"),\n",
    "    (\"XXL\", \"Extra Extra Large\"),\n",
    ")\n",
    "\n",
    "\n",
    "class ProductItem(Document):\n",
    "    #     https://stackoverflow.com/questions/10144852/how-can-i-create-unique-ids-for-embedded-documents-in-mongodb\n",
    "    #     _id = ObjectIdField( required=True, default=lambda: ObjectId() )\n",
    "    product = ReferenceField(\n",
    "        Product, reverse_delete_rule=CASCADE, unique_with=[\"size\", \"color\"]\n",
    "    )\n",
    "    color = StringField(max_length=64, required=True)\n",
    "    size = StringField(max_length=3, choices=SIZE, required=True)\n",
    "    quantity = IntField(min_value=0, required=True)\n",
    "\n",
    "\n",
    "class BasketItem(EmbeddedDocument):\n",
    "    product_item = ReferenceField(ProductItem)\n",
    "    quantity = IntField(min_value=1, default=1, required=True)\n",
    "\n",
    "\n",
    "class User(Document):\n",
    "    email = EmailField(required=True, primary_key=True)\n",
    "    first_name = StringField(max_length=50, required=True)\n",
    "    last_name = StringField(max_length=50, required=True)\n",
    "    city = StringField(max_length=50)\n",
    "    address = StringField(max_length=256)\n",
    "    telephone = StringField(max_length=15)\n",
    "    password = StringField(max_length=256, required=True)\n",
    "    basket_items = EmbeddedDocumentListField(BasketItem)\n",
    "\n",
    "\n",
    "class Driver(Document):\n",
    "    national_id = StringField(\n",
    "        min_length=10, max_length=10, required=True, primary_key=True\n",
    "    )\n",
    "    first_name = StringField(max_length=50, required=True)\n",
    "    last_name = StringField(max_length=50, required=True)\n",
    "    telephone = StringField(max_length=15)\n",
    "    plate_number = StringField(max_length=15)\n",
    "\n",
    "\n",
    "DELIVERY_TYPES = (\n",
    "    (\"N\", \"Normal\"),\n",
    "    (\"S\", \"Special\"),\n",
    ")\n",
    "DELIVERY_STATUSES = ((\"P\", \"Pending\"), (\"R\", \"Registered\"), (\"C\", \"Completed\"))\n",
    "\n",
    "\n",
    "class Order(Document):\n",
    "    user = ReferenceField(document_type=User, reverse_delete_rule=NULLIFY)\n",
    "    date = DateField(required=True)\n",
    "    items = EmbeddedDocumentListField(BasketItem)\n",
    "    delivery_type = StringField(max_length=1, choices=DELIVERY_TYPES, required=True)\n",
    "    delivery_status = StringField(\n",
    "        max_length=1, choices=DELIVERY_STATUSES, required=True\n",
    "    )\n",
    "\n",
    "\n",
    "class Delivery(Document):\n",
    "    date = DateField(required=True)\n",
    "    capacity = IntField(required=True)\n",
    "    driver = ReferenceField(Driver, reverse_delete_rule=NULLIFY)\n",
    "\n",
    "\n",
    "class Comment(Document):\n",
    "    user = ReferenceField(document_type=User, reverse_delete_rule=NULLIFY)\n",
    "    product = ReferenceField(Product, reverse_delete_rule=CASCADE)\n",
    "    rating = IntField(min_value=0, max_value=5, required=True)\n",
    "    text = StringField()"
   ]
  },
  {
   "cell_type": "code",
   "execution_count": null,
   "metadata": {},
   "outputs": [],
   "source": []
  },
  {
   "cell_type": "code",
   "execution_count": null,
   "metadata": {},
   "outputs": [],
   "source": [
    "datetime.datetime.strptime(\"2020-11-24\", \"%Y-%m-%d\").date()"
   ]
  }
 ],
 "metadata": {
  "kernelspec": {
   "display_name": "Python 3",
   "language": "python",
   "name": "python3"
  },
  "language_info": {
   "codemirror_mode": {
    "name": "ipython",
    "version": 3
   },
   "file_extension": ".py",
   "mimetype": "text/x-python",
   "name": "python",
   "nbconvert_exporter": "python",
   "pygments_lexer": "ipython3",
   "version": "3.7.1"
  }
 },
 "nbformat": 4,
 "nbformat_minor": 1
}
